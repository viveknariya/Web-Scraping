{
 "cells": [
  {
   "cell_type": "code",
   "execution_count": 1,
   "id": "94a1e31b",
   "metadata": {},
   "outputs": [],
   "source": [
    "from bs4 import BeautifulSoup\n",
    "import lxml"
   ]
  },
  {
   "cell_type": "code",
   "execution_count": 2,
   "id": "f49a7b9c-be72-4253-b40c-ad8d50e18c58",
   "metadata": {},
   "outputs": [],
   "source": [
    "with open('indeed3.html','r') as html_file:\n",
    "    temp = html_file.read()\n",
    "    soup = BeautifulSoup(temp,'lxml')\n",
    "    tags = soup.find_all('div',class_=\"job_seen_beacon\")"
   ]
  },
  {
   "cell_type": "code",
   "execution_count": 3,
   "id": "2b772474",
   "metadata": {},
   "outputs": [],
   "source": [
    "ls1,ls2,ls3=[],[],[]"
   ]
  },
  {
   "cell_type": "code",
   "execution_count": 4,
   "id": "50c80a7f",
   "metadata": {},
   "outputs": [],
   "source": [
    "for i in tags:\n",
    "    temp2 = i.h2.find_all('span')\n",
    "    temp3 = i.find(class_='salary-snippet')\n",
    "    temp4 = i.find(class_=\"companyName\")\n",
    "    if len(temp2)>1 :\n",
    "        ls1.append(temp2[1].text)\n",
    "        ls2.append(temp4.text)\n",
    "    else:\n",
    "        ls1.append(temp2[0].text)\n",
    "        ls2.append(temp4.text)\n",
    "    \n",
    "    if temp3==None:\n",
    "        ls3.append('not given')\n",
    "    else:\n",
    "        ls3.append(temp3.text)\n"
   ]
  },
  {
   "cell_type": "code",
   "execution_count": 5,
   "id": "7aa2645e",
   "metadata": {},
   "outputs": [
    {
     "data": {
      "text/plain": [
       "(['Python Developer Intern',\n",
       "  'Python/Django Developer',\n",
       "  'Python Developer',\n",
       "  'Python Developer',\n",
       "  'Frontend and Backend Developer',\n",
       "  'Python Developer',\n",
       "  'Senior Python Developer',\n",
       "  'Web Developer',\n",
       "  'Engineer - Python (Crawling & Bots)',\n",
       "  'Python Developer',\n",
       "  'Python Developer',\n",
       "  'Full Stack Developer',\n",
       "  'Senior Software Developer, Trilogy (Remote) - $100,000/year...',\n",
       "  'Full Stack Developer',\n",
       "  'Backend Developer'],\n",
       " ['TekPillar Services',\n",
       "  'SecureMetaSys Infotech Pvt. Ltd.',\n",
       "  'Creative Solution',\n",
       "  'TekPillar Services',\n",
       "  'WRT Infotech',\n",
       "  'Tekpillar',\n",
       "  'TekPillar Services',\n",
       "  'ARHAMSHARE CONSULTANTS PVT LTD',\n",
       "  'Numerator',\n",
       "  'TIGI HR SOLUTION',\n",
       "  'Naman Staffing',\n",
       "  'ANS IT INDIA PVT LTD',\n",
       "  'Crossover',\n",
       "  'Netizens Technologies',\n",
       "  'Themes Brand'],\n",
       " ['â‚¹10,000 - â‚¹30,000 a month',\n",
       "  'â‚¹15,000 - â‚¹50,000 a month',\n",
       "  'â‚¹8,000 - â‚¹35,000 a month',\n",
       "  'â‚¹10,000 - â‚¹45,000 a month',\n",
       "  'â‚¹10,252 - â‚¹30,744 a month',\n",
       "  'â‚¹10,000 - â‚¹30,000 a month',\n",
       "  'â‚¹10,000 - â‚¹45,000 a month',\n",
       "  'â‚¹10,000 - â‚¹50,000 a month',\n",
       "  'not given',\n",
       "  'â‚¹60,000 a month',\n",
       "  'not given',\n",
       "  'â‚¹15,000 - â‚¹20,000 a month',\n",
       "  'not given',\n",
       "  'â‚¹20,000 - â‚¹45,000 a month',\n",
       "  'not given'])"
      ]
     },
     "execution_count": 5,
     "metadata": {},
     "output_type": "execute_result"
    }
   ],
   "source": [
    "ls1,ls2,ls3"
   ]
  },
  {
   "cell_type": "code",
   "execution_count": 6,
   "id": "a0f935f2",
   "metadata": {},
   "outputs": [],
   "source": [
    "dic1 = {'position name' : ls1,'company name':ls2,'salary':ls3}"
   ]
  },
  {
   "cell_type": "code",
   "execution_count": 7,
   "id": "635655af",
   "metadata": {},
   "outputs": [],
   "source": [
    "import pandas as pd"
   ]
  },
  {
   "cell_type": "code",
   "execution_count": 8,
   "id": "b9f4ca60",
   "metadata": {},
   "outputs": [],
   "source": [
    "df = pd.DataFrame(dic1)"
   ]
  },
  {
   "cell_type": "code",
   "execution_count": 9,
   "id": "11961613",
   "metadata": {},
   "outputs": [],
   "source": [
    "df.to_csv(\"untitled4.csv\")"
   ]
  },
  {
   "cell_type": "code",
   "execution_count": 10,
   "id": "8a5a85ea",
   "metadata": {},
   "outputs": [
    {
     "data": {
      "text/html": [
       "<div>\n",
       "<style scoped>\n",
       "    .dataframe tbody tr th:only-of-type {\n",
       "        vertical-align: middle;\n",
       "    }\n",
       "\n",
       "    .dataframe tbody tr th {\n",
       "        vertical-align: top;\n",
       "    }\n",
       "\n",
       "    .dataframe thead th {\n",
       "        text-align: right;\n",
       "    }\n",
       "</style>\n",
       "<table border=\"1\" class=\"dataframe\">\n",
       "  <thead>\n",
       "    <tr style=\"text-align: right;\">\n",
       "      <th></th>\n",
       "      <th>position name</th>\n",
       "      <th>company name</th>\n",
       "      <th>salary</th>\n",
       "    </tr>\n",
       "  </thead>\n",
       "  <tbody>\n",
       "    <tr>\n",
       "      <th>0</th>\n",
       "      <td>Python Developer Intern</td>\n",
       "      <td>TekPillar Services</td>\n",
       "      <td>â‚¹10,000 - â‚¹30,000 a month</td>\n",
       "    </tr>\n",
       "    <tr>\n",
       "      <th>1</th>\n",
       "      <td>Python/Django Developer</td>\n",
       "      <td>SecureMetaSys Infotech Pvt. Ltd.</td>\n",
       "      <td>â‚¹15,000 - â‚¹50,000 a month</td>\n",
       "    </tr>\n",
       "    <tr>\n",
       "      <th>2</th>\n",
       "      <td>Python Developer</td>\n",
       "      <td>Creative Solution</td>\n",
       "      <td>â‚¹8,000 - â‚¹35,000 a month</td>\n",
       "    </tr>\n",
       "    <tr>\n",
       "      <th>3</th>\n",
       "      <td>Python Developer</td>\n",
       "      <td>TekPillar Services</td>\n",
       "      <td>â‚¹10,000 - â‚¹45,000 a month</td>\n",
       "    </tr>\n",
       "    <tr>\n",
       "      <th>4</th>\n",
       "      <td>Frontend and Backend Developer</td>\n",
       "      <td>WRT Infotech</td>\n",
       "      <td>â‚¹10,252 - â‚¹30,744 a month</td>\n",
       "    </tr>\n",
       "    <tr>\n",
       "      <th>5</th>\n",
       "      <td>Python Developer</td>\n",
       "      <td>Tekpillar</td>\n",
       "      <td>â‚¹10,000 - â‚¹30,000 a month</td>\n",
       "    </tr>\n",
       "    <tr>\n",
       "      <th>6</th>\n",
       "      <td>Senior Python Developer</td>\n",
       "      <td>TekPillar Services</td>\n",
       "      <td>â‚¹10,000 - â‚¹45,000 a month</td>\n",
       "    </tr>\n",
       "    <tr>\n",
       "      <th>7</th>\n",
       "      <td>Web Developer</td>\n",
       "      <td>ARHAMSHARE CONSULTANTS PVT LTD</td>\n",
       "      <td>â‚¹10,000 - â‚¹50,000 a month</td>\n",
       "    </tr>\n",
       "    <tr>\n",
       "      <th>8</th>\n",
       "      <td>Engineer - Python (Crawling &amp; Bots)</td>\n",
       "      <td>Numerator</td>\n",
       "      <td>not given</td>\n",
       "    </tr>\n",
       "    <tr>\n",
       "      <th>9</th>\n",
       "      <td>Python Developer</td>\n",
       "      <td>TIGI HR SOLUTION</td>\n",
       "      <td>â‚¹60,000 a month</td>\n",
       "    </tr>\n",
       "    <tr>\n",
       "      <th>10</th>\n",
       "      <td>Python Developer</td>\n",
       "      <td>Naman Staffing</td>\n",
       "      <td>not given</td>\n",
       "    </tr>\n",
       "    <tr>\n",
       "      <th>11</th>\n",
       "      <td>Full Stack Developer</td>\n",
       "      <td>ANS IT INDIA PVT LTD</td>\n",
       "      <td>â‚¹15,000 - â‚¹20,000 a month</td>\n",
       "    </tr>\n",
       "    <tr>\n",
       "      <th>12</th>\n",
       "      <td>Senior Software Developer, Trilogy (Remote) - ...</td>\n",
       "      <td>Crossover</td>\n",
       "      <td>not given</td>\n",
       "    </tr>\n",
       "    <tr>\n",
       "      <th>13</th>\n",
       "      <td>Full Stack Developer</td>\n",
       "      <td>Netizens Technologies</td>\n",
       "      <td>â‚¹20,000 - â‚¹45,000 a month</td>\n",
       "    </tr>\n",
       "    <tr>\n",
       "      <th>14</th>\n",
       "      <td>Backend Developer</td>\n",
       "      <td>Themes Brand</td>\n",
       "      <td>not given</td>\n",
       "    </tr>\n",
       "  </tbody>\n",
       "</table>\n",
       "</div>"
      ],
      "text/plain": [
       "                                        position name  \\\n",
       "0                             Python Developer Intern   \n",
       "1                             Python/Django Developer   \n",
       "2                                    Python Developer   \n",
       "3                                    Python Developer   \n",
       "4                      Frontend and Backend Developer   \n",
       "5                                    Python Developer   \n",
       "6                             Senior Python Developer   \n",
       "7                                       Web Developer   \n",
       "8                 Engineer - Python (Crawling & Bots)   \n",
       "9                                    Python Developer   \n",
       "10                                   Python Developer   \n",
       "11                               Full Stack Developer   \n",
       "12  Senior Software Developer, Trilogy (Remote) - ...   \n",
       "13                               Full Stack Developer   \n",
       "14                                  Backend Developer   \n",
       "\n",
       "                        company name                         salary  \n",
       "0                 TekPillar Services  â‚¹10,000 - â‚¹30,000 a month  \n",
       "1   SecureMetaSys Infotech Pvt. Ltd.  â‚¹15,000 - â‚¹50,000 a month  \n",
       "2                  Creative Solution   â‚¹8,000 - â‚¹35,000 a month  \n",
       "3                 TekPillar Services  â‚¹10,000 - â‚¹45,000 a month  \n",
       "4                       WRT Infotech  â‚¹10,252 - â‚¹30,744 a month  \n",
       "5                          Tekpillar  â‚¹10,000 - â‚¹30,000 a month  \n",
       "6                 TekPillar Services  â‚¹10,000 - â‚¹45,000 a month  \n",
       "7     ARHAMSHARE CONSULTANTS PVT LTD  â‚¹10,000 - â‚¹50,000 a month  \n",
       "8                          Numerator                      not given  \n",
       "9                   TIGI HR SOLUTION              â‚¹60,000 a month  \n",
       "10                    Naman Staffing                      not given  \n",
       "11              ANS IT INDIA PVT LTD  â‚¹15,000 - â‚¹20,000 a month  \n",
       "12                         Crossover                      not given  \n",
       "13             Netizens Technologies  â‚¹20,000 - â‚¹45,000 a month  \n",
       "14                      Themes Brand                      not given  "
      ]
     },
     "execution_count": 10,
     "metadata": {},
     "output_type": "execute_result"
    }
   ],
   "source": [
    "df"
   ]
  },
  {
   "cell_type": "code",
   "execution_count": null,
   "id": "7d603fd0",
   "metadata": {},
   "outputs": [],
   "source": []
  }
 ],
 "metadata": {
  "kernelspec": {
   "display_name": "Python 3 (ipykernel)",
   "language": "python",
   "name": "python3"
  },
  "language_info": {
   "codemirror_mode": {
    "name": "ipython",
    "version": 3
   },
   "file_extension": ".py",
   "mimetype": "text/x-python",
   "name": "python",
   "nbconvert_exporter": "python",
   "pygments_lexer": "ipython3",
   "version": "3.10.2"
  }
 },
 "nbformat": 4,
 "nbformat_minor": 5
}
